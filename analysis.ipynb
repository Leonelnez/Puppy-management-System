{
 "cells": [
  {
   "cell_type": "code",
   "execution_count": 1,
   "metadata": {},
   "outputs": [],
   "source": [
    "import pandas as pd\n",
    "import numpy as np\n",
    "from sklearn.preprocessing import OneHotEncoder\n",
    "from sklearn.preprocessing import LabelEncoder\n",
    "from sklearn.compose import make_column_transformer\n",
    "from sklearn.pipeline import make_pipeline\n",
    "from sklearn.model_selection import train_test_split\n",
    "from sklearn.linear_model import LogisticRegression\n",
    "from sklearn.svm import SVC\n",
    "import matplotlib.pyplot as plt\n",
    "from sklearn.tree import DecisionTreeClassifier\n",
    "from sklearn.ensemble import RandomForestClassifier\n",
    "from sklearn.naive_bayes import GaussianNB\n",
    "from sklearn.utils import shuffle\n",
    "from keras.utils import to_categorical\n",
    "from sklearn.neighbors import KNeighborsClassifier\n",
    "from keras.models import Sequential\n",
    "from sklearn.preprocessing import scale\n",
    "import tensorflow as tf\n",
    "from keras.layers import Dense\n",
    "import pickle\n",
    "from sklearn.metrics import accuracy_score"
   ]
  },
  {
   "cell_type": "markdown",
   "metadata": {},
   "source": [
    "Read data from excel files"
   ]
  },
  {
   "cell_type": "code",
   "execution_count": 2,
   "metadata": {},
   "outputs": [],
   "source": [
    "train=pd.read_excel(\"train.xlsx\")\n",
    "puppies=pd.read_excel(\"puppies.xlsx\")"
   ]
  },
  {
   "cell_type": "markdown",
   "metadata": {},
   "source": [
    "jOIN THE DATA."
   ]
  },
  {
   "cell_type": "code",
   "execution_count": 3,
   "metadata": {},
   "outputs": [],
   "source": [
    "df=train.join(puppies.set_index('PuppyNumber'),on=\"PuppyNumber\",how='left',lsuffix='', rsuffix='_other')\n",
    "df.drop(columns=[\"PuppyNumber\"],inplace=True)\n",
    "df.rename(columns=lambda x: x.strip(), inplace=True)\n",
    "df['breed']=df['breed'].apply(lambda x: x.strip())"
   ]
  },
  {
   "cell_type": "markdown",
   "metadata": {},
   "source": [
    "DROP COLUMNS WHICH ARE  LESS SIGNIFICANT"
   ]
  },
  {
   "cell_type": "code",
   "execution_count": 4,
   "metadata": {},
   "outputs": [],
   "source": [
    "df.drop(columns=['Adult weight',\n",
    "       'Number of litters', 'Average number of puppies per litter',\n",
    "       'Total number of puppies','Parent Age','breed','sex'],inplace=True)"
   ]
  },
  {
   "cell_type": "code",
   "execution_count": 5,
   "metadata": {},
   "outputs": [],
   "source": [
    "\n",
    "# categories = [('sex',['M','F']),('breed',['German Shepherd', 'English Mastiff', 'Maltese'])]\n",
    "# ohe_columns = [x[0] for x in categories]\n",
    "# ohe_categories = [x[1] for x in categories]\n",
    "# encoding= OneHotEncoder(categories=ohe_categories)\n",
    "# transformer = make_column_transformer((encoding, ohe_columns), remainder='passthrough')\n",
    "\n",
    "# # We convert the resulting arrays to DataFrames\n",
    "# dft=transformer.fit_transform(df)\n",
    "# df=pd.DataFrame(dft,columns=transformer.get_feature_names_out(),index=df.index)\n",
    "# df.rename(columns={\"remainder__Health\":\"Health\"},inplace=True)"
   ]
  },
  {
   "cell_type": "markdown",
   "metadata": {},
   "source": [
    "Specifying X and Y dataset"
   ]
  },
  {
   "cell_type": "code",
   "execution_count": 6,
   "metadata": {},
   "outputs": [],
   "source": [
    "X=df.drop(columns=['Health'],axis=1)\n",
    "X=np.array(X)\n",
    "df['Health']=df['Health'].astype('category')\n",
    "Y=np.array(df['Health'].cat.codes)"
   ]
  },
  {
   "cell_type": "markdown",
   "metadata": {},
   "source": [
    "Split data into test and train"
   ]
  },
  {
   "cell_type": "code",
   "execution_count": 7,
   "metadata": {},
   "outputs": [],
   "source": [
    "x_train, x_test, y_train, y_test = train_test_split(X,Y, test_size = 0.1, random_state = 1,shuffle=True)\n",
    "x_train= np.asarray(x_train).astype('float32')\n",
    "x_test= np.asarray(x_test).astype('float32')\n",
    "# x_train.shape, y_train.shape, x_test.shape, y_test.shape"
   ]
  },
  {
   "cell_type": "markdown",
   "metadata": {},
   "source": [
    "Model Training"
   ]
  },
  {
   "cell_type": "code",
   "execution_count": 8,
   "metadata": {},
   "outputs": [],
   "source": [
    "best_dct_model=None\n",
    "best=0"
   ]
  },
  {
   "cell_type": "markdown",
   "metadata": {},
   "source": [
    "1. Decision Tree Classifier"
   ]
  },
  {
   "cell_type": "code",
   "execution_count": 9,
   "metadata": {},
   "outputs": [
    {
     "data": {
      "text/plain": [
       "0.7160493827160493"
      ]
     },
     "execution_count": 9,
     "metadata": {},
     "output_type": "execute_result"
    }
   ],
   "source": [
    "for i in range (1,20):\n",
    "    dct_model=DecisionTreeClassifier(splitter='random',criterion=\"entropy\")\n",
    "    dct_model.fit(x_train,y_train)\n",
    "    dct_y_pred=dct_model.predict(x_test)\n",
    "    score =accuracy_score(y_test,dct_y_pred)\n",
    "    if score>best:\n",
    "        best_dct_model=dct_model\n",
    "        best=score\n",
    "\n",
    "best"
   ]
  },
  {
   "cell_type": "markdown",
   "metadata": {},
   "source": [
    "2. Random Forest"
   ]
  },
  {
   "cell_type": "code",
   "execution_count": 10,
   "metadata": {},
   "outputs": [
    {
     "name": "stdout",
     "output_type": "stream",
     "text": [
      "Best Score 0.7160493827160493 280\n"
     ]
    }
   ],
   "source": [
    "def try_rf(n):\n",
    "    random_forest_model=RandomForestClassifier(n_estimators=n,random_state=42)\n",
    "    random_forest_model.fit(x_train,y_train)\n",
    "    random_forest_y_pred=random_forest_model.predict(x_test)\n",
    "    score =accuracy_score(y_test,random_forest_y_pred)\n",
    "    return random_forest_model,random_forest_y_pred,score\n",
    "\n",
    "best_score = n = 0\n",
    "random_forest_best_model = knn_y_pred = None\n",
    "for i in range(200, 300,20):\n",
    "    random_forest_model, y_pred, score = try_rf(i)\n",
    "    if score > best_score:\n",
    "        best_score = score\n",
    "        random_forest_best_model = random_forest_model\n",
    "        random_forest_y_pred = y_pred\n",
    "        n = i\n",
    "print(\"Best Score\", best_score, n)"
   ]
  },
  {
   "cell_type": "markdown",
   "metadata": {},
   "source": [
    "3.  Logistic Regression"
   ]
  },
  {
   "cell_type": "code",
   "execution_count": 11,
   "metadata": {},
   "outputs": [
    {
     "data": {
      "text/plain": [
       "0.345679012345679"
      ]
     },
     "execution_count": 11,
     "metadata": {},
     "output_type": "execute_result"
    }
   ],
   "source": [
    "lg_model=LogisticRegression(max_iter=10000)\n",
    "lg_model.fit(x_train,y_train)\n",
    "lg_y_pred=lg_model.predict(x_test)\n",
    "score =accuracy_score(y_test,lg_y_pred)\n",
    "score"
   ]
  },
  {
   "cell_type": "markdown",
   "metadata": {},
   "source": [
    "4. Support  Vector Machine"
   ]
  },
  {
   "cell_type": "code",
   "execution_count": 12,
   "metadata": {},
   "outputs": [
    {
     "data": {
      "text/plain": [
       "0.3395061728395062"
      ]
     },
     "execution_count": 12,
     "metadata": {},
     "output_type": "execute_result"
    }
   ],
   "source": [
    "svc_model=SVC(max_iter=30000,probability=True)\n",
    "svc_model.fit(x_train,y_train)\n",
    "svc_pred=svc_model.predict(x_test)\n",
    "score =accuracy_score(y_test,svc_pred)\n",
    "score"
   ]
  },
  {
   "cell_type": "markdown",
   "metadata": {},
   "source": [
    "5. Naive Bayes"
   ]
  },
  {
   "cell_type": "code",
   "execution_count": 13,
   "metadata": {},
   "outputs": [
    {
     "data": {
      "text/plain": [
       "0.35185185185185186"
      ]
     },
     "execution_count": 13,
     "metadata": {},
     "output_type": "execute_result"
    }
   ],
   "source": [
    "nb_model=GaussianNB()\n",
    "nb_model.fit(x_train,y_train)\n",
    "nb_y_pred=nb_model.predict(x_test)\n",
    "score =accuracy_score(y_test,nb_y_pred)\n",
    "score"
   ]
  },
  {
   "cell_type": "markdown",
   "metadata": {},
   "source": [
    "6. Kth Nearest Neighbour"
   ]
  },
  {
   "cell_type": "code",
   "execution_count": 14,
   "metadata": {},
   "outputs": [
    {
     "name": "stdout",
     "output_type": "stream",
     "text": [
      "Best Score 0.4444444444444444 96\n"
     ]
    }
   ],
   "source": [
    "def try_knn(n_neighbors):\n",
    "    knn_model = KNeighborsClassifier(n_neighbors=n_neighbors,p=5,n_jobs=20,algorithm=\"kd_tree\")\n",
    "    knn_model.fit(x_train, y_train)\n",
    "    knn_y_pred = knn_model.predict(x_test)\n",
    "    score = accuracy_score(y_test, knn_y_pred)\n",
    "    return knn_model, knn_y_pred, score\n",
    "\n",
    "\n",
    "best_score = n = 0\n",
    "knn_best_model = knn_y_pred = None\n",
    "for i in range(1, 100):\n",
    "    knn_model, y_pred, score = try_knn(i)\n",
    "    if score > best_score:\n",
    "        best_score = score\n",
    "        knn_best_model = knn_model\n",
    "        knn_y_pred = y_pred\n",
    "        n = i\n",
    "print(\"Best Score\", best_score, n)"
   ]
  },
  {
   "cell_type": "markdown",
   "metadata": {},
   "source": [
    "7. Neural Network"
   ]
  },
  {
   "cell_type": "code",
   "execution_count": null,
   "metadata": {},
   "outputs": [],
   "source": [
    "in_dim = len(df.columns)-1\n",
    "model = Sequential()\n",
    "model.add(Dense(64, input_dim = in_dim, activation = 'relu'))\n",
    "model.add(Dense(32, activation = 'relu'))\n",
    "model.add(Dense(32, activation = 'relu'))\n",
    "model.add(Dense(32, activation = 'relu'))\n",
    "model.add(Dense(32, activation = 'relu'))\n",
    "model.add(Dense(10, activation = 'relu'))\n",
    "model.add(Dense(1))\n",
    "\n",
    "model.compile(loss = 'categorical_crossentropy', optimizer = 'adam', metrics = ['accuracy'])\n",
    "\n",
    "model.fit(x_train, y_train, epochs = 5, batch_size = 3,verbose=False)\n",
    "scores = model.evaluate(x_test, y_test)\n",
    "\n",
    "for i, m in enumerate(model.metrics_names):\n",
    "    print(\"\\n%s: %.3f\"% (m, scores[i]))"
   ]
  },
  {
   "cell_type": "markdown",
   "metadata": {},
   "source": [
    "Save the best Models"
   ]
  },
  {
   "cell_type": "code",
   "execution_count": 16,
   "metadata": {},
   "outputs": [],
   "source": [
    "with open('puppy_management_system_random_forest_model.pkl', 'wb') as file:\n",
    "    pickle.dump(random_forest_best_model, file)\n",
    "with open('puppy_management_system_decision_tree_model.pkl', 'wb') as file:\n",
    "    pickle.dump(best_dct_model, file)"
   ]
  },
  {
   "cell_type": "code",
   "execution_count": 17,
   "metadata": {},
   "outputs": [
    {
     "name": "stdout",
     "output_type": "stream",
     "text": [
      "RF: 0.7160493827160493 DCT: 0.7160493827160493\n"
     ]
    }
   ],
   "source": [
    "  # Load the saved model\n",
    "with open('puppy_management_system_random_forest_model.pkl', 'rb') as file:\n",
    "    loaded_rf_classifier = pickle.load(file)\n",
    "# Load the saved model\n",
    "with open('puppy_management_system_decision_tree_model.pkl', 'rb') as file:\n",
    "    loaded_dct_classifier = pickle.load(file)\n",
    "\n",
    "rf_y_pred=loaded_rf_classifier.predict(x_test)\n",
    "rf_score =accuracy_score(y_test,rf_y_pred)\n",
    "\n",
    "dct_y_pred=loaded_dct_classifier.predict(x_test)\n",
    "dct_score =accuracy_score(y_test,dct_y_pred)\n",
    "\n",
    "print(f\"RF: {rf_score} DCT: {dct_score}\")"
   ]
  }
 ],
 "metadata": {
  "kernelspec": {
   "display_name": "Python 3",
   "language": "python",
   "name": "python3"
  },
  "language_info": {
   "codemirror_mode": {
    "name": "ipython",
    "version": 3
   },
   "file_extension": ".py",
   "mimetype": "text/x-python",
   "name": "python",
   "nbconvert_exporter": "python",
   "pygments_lexer": "ipython3",
   "version": "3.11.5"
  }
 },
 "nbformat": 4,
 "nbformat_minor": 2
}
